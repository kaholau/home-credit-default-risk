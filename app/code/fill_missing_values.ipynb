{
 "cells": [
  {
   "cell_type": "code",
   "execution_count": 1,
   "metadata": {},
   "outputs": [],
   "source": [
    "import pandas as pd\n",
    "import numpy as np"
   ]
  },
  {
   "cell_type": "code",
   "execution_count": 2,
   "metadata": {},
   "outputs": [],
   "source": [
    "# grand_table = pd.read_csv('input/grand_table.csv')"
   ]
  },
  {
   "cell_type": "code",
   "execution_count": 3,
   "metadata": {},
   "outputs": [],
   "source": [
    "values_to_fill = pd.read_csv('missing_value_for_agg.csv')"
   ]
  },
  {
   "cell_type": "code",
   "execution_count": 4,
   "metadata": {
    "collapsed": true
   },
   "outputs": [],
   "source": [
    "def fill_all_missing_values(grand_table):\n",
    "    value_info = {}\n",
    "    for index, row in values_to_fill.iterrows():\n",
    "        table = row['Table']\n",
    "        row_name = row['Row']\n",
    "        row_type = row['Type']\n",
    "        if not value_info.get(table):\n",
    "            value_info[table] = {}\n",
    "        value_info[table][row_name] = (row_type, row['missing value after aggregation'])\n",
    "    \n",
    "    for table in value_info.keys():\n",
    "        # reverse sort so that \"AB_CD\" appears before \"AB\", requried for later processing\n",
    "        columns = list(sorted(value_info[table].keys(), reverse=True))\n",
    "        value_info[table]['all_columns'] = columns\n",
    "        \n",
    "    def fill_value(df, column, value):\n",
    "        if value == 'median':\n",
    "            df[column] = df[column].fillna(df[column].median())\n",
    "        else:\n",
    "            df[column] = df[column].fillna(int(value))\n",
    "        return df\n",
    "    \n",
    "    def process_column(df, column, table):\n",
    "        for col_name in value_info[table]['all_columns']:\n",
    "            if col_name in column:\n",
    "                return fill_value(df, column, value_info[table][col_name][1])\n",
    "        print(\"Column %s in table %s not processed\" % (column, table))\n",
    "        \n",
    "    def process(df):\n",
    "        for column in df.columns:\n",
    "            column = str(column)\n",
    "\n",
    "            if not df[column].isnull().values.any():  # no missing value\n",
    "                continue\n",
    "            if column[0:len('prev_app')] == 'prev_app':\n",
    "                df = process_column(df, column, 'previous_application.csv')\n",
    "            elif column[0:len('install')] == 'install':\n",
    "                df = process_column(df, column, 'installments_payments.csv')\n",
    "            elif column[0:len('credit_bal')] == 'credit_bal':\n",
    "                df = process_column(df, column, 'credit_card_balance.csv')\n",
    "            elif column[0:len('pos_cash')] == 'pos_cash':\n",
    "                if 'CNT_INSTALMENT_FUTURE' in column:  # this column is an ID, should drop\n",
    "                    df = df.drop(column, axis=1)\n",
    "                    continue\n",
    "                df = process_column(df, column, 'POS_CASH_balance.csv')\n",
    "            elif column[0:len('bureau')] == 'bureau':\n",
    "                df = process_column(df, column, 'bureau.csv')\n",
    "            elif column[0:len('client_bureau_balance')] == 'client_bureau_balance':\n",
    "                # remove all columns from MONTHS_BALANCE except for 'MONTHS_BALANCE_min' because\n",
    "                # MONTHS_BALANCE is like an ID, but its min has meaning\n",
    "                if 'MONTHS_BALANCE' in column and 'MONTHS_BALANCE_min' not in column:\n",
    "                    df = df.drop(column, axis=1)\n",
    "                    continue\n",
    "                df = process_column(df, column, 'bureau_balance.csv')\n",
    "            else:\n",
    "                print(\"column %s from grand table not processed\" % column)\n",
    "        return df\n",
    "    \n",
    "    return process(grand_table)"
   ]
  },
  {
   "cell_type": "code",
   "execution_count": 6,
   "metadata": {},
   "outputs": [
    {
     "name": "stdout",
     "output_type": "stream",
     "text": [
      "column TARGET from grand table not processed\n"
     ]
    }
   ],
   "source": [
    "# grand_table = fill_all_missing_values(grand_table)"
   ]
  },
  {
   "cell_type": "code",
   "execution_count": 4,
   "metadata": {
    "scrolled": true
   },
   "outputs": [
    {
     "data": {
      "text/html": [
       "<div>\n",
       "<style scoped>\n",
       "    .dataframe tbody tr th:only-of-type {\n",
       "        vertical-align: middle;\n",
       "    }\n",
       "\n",
       "    .dataframe tbody tr th {\n",
       "        vertical-align: top;\n",
       "    }\n",
       "\n",
       "    .dataframe thead th {\n",
       "        text-align: right;\n",
       "    }\n",
       "</style>\n",
       "<table border=\"1\" class=\"dataframe\">\n",
       "  <thead>\n",
       "    <tr style=\"text-align: right;\">\n",
       "      <th></th>\n",
       "      <th>Missing Ratio</th>\n",
       "    </tr>\n",
       "  </thead>\n",
       "  <tbody>\n",
       "  </tbody>\n",
       "</table>\n",
       "</div>"
      ],
      "text/plain": [
       "Empty DataFrame\n",
       "Columns: [Missing Ratio]\n",
       "Index: []"
      ]
     },
     "execution_count": 4,
     "metadata": {},
     "output_type": "execute_result"
    }
   ],
   "source": [
    "# # adapted from a kernel:\n",
    "# # https://www.kaggle.com/serigne/stacked-regressions-top-4-on-leaderboard\n",
    "train = pd.read_csv(\"main_table.csv\", nrows=400)\n",
    "test = pd.read_csv(\"test_table.csv\")\n",
    "del train['TARGET']\n",
    "del test['TARGET']\n",
    "grand_table= train\n",
    "grand_table_na = (grand_table.isnull().sum() / len(grand_table)) * 100\n",
    "grand_table_na = grand_table_na.drop(grand_table_na[grand_table_na == 0].index).sort_values(ascending=False)[:30]\n",
    "missing_data = pd.DataFrame({'Missing Ratio': grand_table_na})\n",
    "missing_data.head(20)"
   ]
  },
  {
   "cell_type": "code",
   "execution_count": null,
   "metadata": {
    "collapsed": true
   },
   "outputs": [],
   "source": []
  }
 ],
 "metadata": {
  "kernelspec": {
   "display_name": "msbd5012",
   "language": "python",
   "name": "msbd5012"
  },
  "language_info": {
   "codemirror_mode": {
    "name": "ipython",
    "version": 3
   },
   "file_extension": ".py",
   "mimetype": "text/x-python",
   "name": "python",
   "nbconvert_exporter": "python",
   "pygments_lexer": "ipython3",
   "version": "3.6.7"
  }
 },
 "nbformat": 4,
 "nbformat_minor": 2
}
